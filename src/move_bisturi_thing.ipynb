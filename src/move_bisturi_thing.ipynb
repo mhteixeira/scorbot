{
 "cells": [
  {
   "cell_type": "code",
   "execution_count": 16,
   "metadata": {},
   "outputs": [],
   "source": [
    "import pygame\n",
    "import time\n",
    "import serial\n",
    "import re\n",
    "import numpy as np\n",
    "from classes.RobotBisturi import RobotBisturi\n",
    "from classes.Joystick import Controller\n",
    "from helpers.process_input import process_input\n",
    "from helpers.interface import *"
   ]
  },
  {
   "cell_type": "code",
   "execution_count": 25,
   "metadata": {},
   "outputs": [],
   "source": [
    "def set_mode(current_mode, new_mode):\n",
    "    if new_mode == current_mode:\n",
    "        print(\"Mode already set to\", new_mode)\n",
    "        return current_mode\n",
    "    \n",
    "    current_mode = new_mode\n",
    "    \n",
    "    ser.write(b\"~\\r\")\n",
    "    \n",
    "    if current_mode == \"manual\":\n",
    "        desired_command = \"MANUAL MODE!\"\n",
    "        undesired_command = \"EXIT\"\n",
    "    elif current_mode == \"auto\":\n",
    "        desired_command = \"EXIT\"\n",
    "        undesired_command = \"MANUAL MODE!\"\n",
    "\n",
    "    check = ''\n",
    "    start_time = time.time()\n",
    "\n",
    "    while True:\n",
    "        check += ser.read_all().decode('ascii')\n",
    "        print(check)\n",
    "\n",
    "        if bool(re.search(undesired_command, check)):\n",
    "            ser.write(b\"~\\r\")\n",
    "            return new_mode\n",
    "        if bool(re.search(desired_command, check)):\n",
    "            return new_mode\n",
    "\n",
    "        if time.time() - start_time > 10: \n",
    "            raise TimeoutError\n",
    "\n",
    "        time.sleep(0.05)\n",
    "        "
   ]
  },
  {
   "cell_type": "code",
   "execution_count": 26,
   "metadata": {},
   "outputs": [],
   "source": [
    "def check_messages(response):\n",
    "    print(response)\n",
    "    \n",
    "    if bool(re.search(\"DISABLED\", response)) or bool(re.search(\"IMPACT\", response)):\n",
    "        print(\"ASKJHDS\")\n",
    "\n",
    "    if response != '': print(response)"
   ]
  },
  {
   "cell_type": "code",
   "execution_count": 27,
   "metadata": {},
   "outputs": [
    {
     "name": "stdout",
     "output_type": "stream",
     "text": [
      "CONTROL ENABLED.                   \n",
      "CONTROL ENABLED.                   \n",
      "EXIT MANUAL MODE...\n",
      ">\n"
     ]
    }
   ],
   "source": [
    "position_command = [b\"0\\r\", b\"8206\\r\", b\"-1756\\r\", b\"-18935\\r\", b\"0\\r\"]\n",
    "\n",
    "ser = serial.Serial('COM14')\n",
    "ser.write(b\"CON \\r\")\n",
    "time.sleep(1)\n",
    "\n",
    "mode = None\n",
    "movement_mode = None\n",
    "\n",
    "mode = set_mode(mode, \"auto\")"
   ]
  },
  {
   "cell_type": "code",
   "execution_count": 30,
   "metadata": {},
   "outputs": [],
   "source": [
    "ser.write(b\"SETPV P0 \\r\")\n",
    "time.sleep(1)"
   ]
  },
  {
   "cell_type": "code",
   "execution_count": 32,
   "metadata": {},
   "outputs": [
    {
     "name": "stdout",
     "output_type": "stream",
     "text": [
      "\n"
     ]
    }
   ],
   "source": [
    "response = ser.read_all().decode('ascii')\n",
    "print(response)"
   ]
  },
  {
   "cell_type": "code",
   "execution_count": 33,
   "metadata": {},
   "outputs": [
    {
     "name": "stdout",
     "output_type": "stream",
     "text": [
      "\n",
      "0\n",
      "      2 --[ 8206] >\n",
      "0\n",
      "      2 --[ 8206] >\n",
      "8206\n",
      "      3 --[-1756] >\n",
      "8206\n",
      "      3 --[-1756] >\n",
      "-1756\n",
      "      4 --[-18935] >\n",
      "-1756\n",
      "      4 --[-18935] >\n",
      "-18935\n",
      "      5 --[0] >\n",
      "-18935\n",
      "      5 --[0] >\n"
     ]
    }
   ],
   "source": [
    "for command in position_command:\n",
    "    check_messages(ser.read_all().decode('ascii'))\n",
    "    ser.write(command)\n",
    "    time.sleep(0.1)"
   ]
  },
  {
   "cell_type": "code",
   "execution_count": 24,
   "metadata": {},
   "outputs": [],
   "source": [
    "ser.write(b\"MOVE P0\\r\")\n",
    "time.sleep(1)"
   ]
  },
  {
   "cell_type": "code",
   "execution_count": 1,
   "metadata": {},
   "outputs": [],
   "source": [
    "ROBOT_INITIAL_POSITION = [b\"0\\r\", b\"8206\\r\", b\"-1756\\r\", b\"-18935\\r\", b\"0\\r\"]"
   ]
  },
  {
   "cell_type": "code",
   "execution_count": 4,
   "metadata": {},
   "outputs": [
    {
     "data": {
      "text/plain": [
       "[0, 8206, -1756, -18935, 0]"
      ]
     },
     "execution_count": 4,
     "metadata": {},
     "output_type": "execute_result"
    }
   ],
   "source": [
    "e = [int(el) for el in ROBOT_INITIAL_POSITION]\n",
    "e"
   ]
  }
 ],
 "metadata": {
  "kernelspec": {
   "display_name": "venv",
   "language": "python",
   "name": "python3"
  },
  "language_info": {
   "codemirror_mode": {
    "name": "ipython",
    "version": 3
   },
   "file_extension": ".py",
   "mimetype": "text/x-python",
   "name": "python",
   "nbconvert_exporter": "python",
   "pygments_lexer": "ipython3",
   "version": "3.8.10"
  }
 },
 "nbformat": 4,
 "nbformat_minor": 2
}
