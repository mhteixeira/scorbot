{
 "cells": [
  {
   "cell_type": "code",
   "execution_count": 1,
   "metadata": {},
   "outputs": [
    {
     "name": "stdout",
     "output_type": "stream",
     "text": [
      "pygame 2.5.2 (SDL 2.28.3, Python 3.8.10)\n",
      "Hello from the pygame community. https://www.pygame.org/contribute.html\n"
     ]
    }
   ],
   "source": [
    "import pygame\n",
    "import time\n",
    "import serial\n",
    "import re\n",
    "import numpy as np\n",
    "from classes.RobotCamera import RobotCamera\n",
    "from classes.Joystick import Controller\n",
    "from helpers.process_input import process_input\n",
    "from helpers.interface import *"
   ]
  },
  {
   "cell_type": "code",
   "execution_count": 2,
   "metadata": {},
   "outputs": [],
   "source": [
    "def set_mode(current_mode, new_mode):\n",
    "    if new_mode == current_mode:\n",
    "        print(\"Mode already set to\", new_mode)\n",
    "        return current_mode\n",
    "    \n",
    "    current_mode = new_mode\n",
    "    \n",
    "    ser.write(b\"~\\r\")\n",
    "    \n",
    "    if current_mode == \"manual\":\n",
    "        desired_command = \"MANUAL MODE!\"\n",
    "        undesired_command = \"EXIT\"\n",
    "    elif current_mode == \"auto\":\n",
    "        desired_command = \"EXIT\"\n",
    "        undesired_command = \"MANUAL MODE!\"\n",
    "\n",
    "    check = ''\n",
    "    start_time = time.time()\n",
    "\n",
    "    while True:\n",
    "        check += ser.read_all().decode('ascii')\n",
    "        print(check)\n",
    "\n",
    "        if bool(re.search(undesired_command, check)):\n",
    "            ser.write(b\"~\\r\")\n",
    "            return new_mode\n",
    "        if bool(re.search(desired_command, check)):\n",
    "            return new_mode\n",
    "\n",
    "        if time.time() - start_time > 10: \n",
    "            raise TimeoutError\n",
    "\n",
    "        time.sleep(0.05)\n",
    "        "
   ]
  },
  {
   "cell_type": "code",
   "execution_count": 3,
   "metadata": {},
   "outputs": [],
   "source": [
    "def check_messages(response):\n",
    "    print(response)\n",
    "    \n",
    "    if bool(re.search(\"DISABLED\", response)) or bool(re.search(\"IMPACT\", response)):\n",
    "        print(\"ASKJHDS\")\n",
    "\n",
    "    if response != '': print(response)"
   ]
  },
  {
   "cell_type": "code",
   "execution_count": 4,
   "metadata": {},
   "outputs": [
    {
     "name": "stdout",
     "output_type": "stream",
     "text": [
      "CON \n",
      "CONTROL ENABLED.\n",
      ">\n",
      "CON \n",
      "CONTROL ENABLED.\n",
      ">\n",
      "MANUAL MODE!\n",
      ">\n",
      " JOINT M\n"
     ]
    }
   ],
   "source": [
    "ROBOT_OPTION_1 = [b\"2000\\r\", b\"-12249\\r\", b\"-8210\\r\", b\"-25802\\r\", b\"0\\r\"]\n",
    "ROBOT_OPTION_2 = [b\"2000\\r\", b\"-13687\\r\", b\"-27171\\r\", b\"-3323\\r\", b\"0\\r\"]\n",
    "ROBOT_OPTION_3 = [b\"2000\\r\", b\"-1167\\r\", b\"-26033\\r\", b\"13945\\r\", b\"0\\r\"]\n",
    "\n",
    "ser = serial.Serial('COM16')\n",
    "ser.write(b\"CON \\r\")\n",
    "time.sleep(1)\n",
    "mode = None\n",
    "movement_mode = None\n",
    "\n",
    "mode = set_mode(mode, \"auto\")\n",
    "\n",
    "# time.sleep(1)\n",
    "# print(ser.read_all().decode('ascii'))\n",
    "# print('mode', mode)"
   ]
  },
  {
   "cell_type": "code",
   "execution_count": 25,
   "metadata": {},
   "outputs": [
    {
     "name": "stdout",
     "output_type": "stream",
     "text": [
      "Mode already set to auto\n",
      "First movement\n",
      "Second movement\n",
      "b'-7000\\r'\n",
      "0\n",
      "\u0000Done.\n",
      ">MOVE P1 \n",
      "\u0000Done.\n",
      ">HERE P1 \n",
      "\u0000Done.\n",
      ">SETPV P1 1 -7000\n",
      "\u0000Done.\n",
      ">MOVE P1 \n",
      "\u0000Done.\n",
      ">SETPV P1\n",
      "      1 --[-7000] >\n",
      "0\n",
      "\u0000Done.\n",
      ">MOVE P1 \n",
      "\u0000Done.\n",
      ">HERE P1 \n",
      "\u0000Done.\n",
      ">SETPV P1 1 -7000\n",
      "\u0000Done.\n",
      ">MOVE P1 \n",
      "\u0000Done.\n",
      ">SETPV P1\n",
      "      1 --[-7000] >\n",
      "b'-12249\\r'\n",
      "-7000\n",
      "      2 --[-12245] >\n",
      "-7000\n",
      "      2 --[-12245] >\n",
      "b'-8210\\r'\n",
      "-12249\n",
      "      3 --[-8211] >\n",
      "-12249\n",
      "      3 --[-8211] >\n",
      "b'-25802\\r'\n",
      "-8210\n",
      "      4 --[-25802] >\n",
      "-8210\n",
      "      4 --[-25802] >\n",
      "b'0\\r'\n",
      "-25802\n",
      "      5 --[0] >\n",
      "-25802\n",
      "      5 --[0] >\n",
      "Third movement\n",
      "b'2000\\r'\n",
      "0\n",
      "\u0000Done.\n",
      ">MOVE P1\n",
      "\u0000Done.\n",
      ">SETPV P1\n",
      "      1 --[-7000] >\n",
      "0\n",
      "\u0000Done.\n",
      ">MOVE P1\n",
      "\u0000Done.\n",
      ">SETPV P1\n",
      "      1 --[-7000] >\n",
      "b'-12249\\r'\n",
      "2000\n",
      "      2 --[-12249] >\n",
      "2000\n",
      "      2 --[-12249] >\n",
      "b'-8210\\r'\n",
      "-12249\n",
      "      3 --[-8210] >\n",
      "-12249\n",
      "      3 --[-8210] >\n",
      "b'-25802\\r'\n",
      "-8210\n",
      "      4 --[-25802] >\n",
      "-8210\n",
      "      4 --[-25802] >\n",
      "b'0\\r'\n",
      "-25802\n",
      "      5 --[0] >\n",
      "-25802\n",
      "      5 --[0] >\n"
     ]
    }
   ],
   "source": [
    "mode = set_mode(mode, \"auto\")\n",
    "\n",
    "print(\"First movement\")\n",
    "\n",
    "ser.write(b\"HERE P1 \\r\")\n",
    "time.sleep(0.1)\n",
    "ser.write(b\"SETPV P1 1 -7000\\r\")\n",
    "time.sleep(0.5)\n",
    "ser.write(b\"MOVE P1 \\r\")\n",
    "time.sleep(0.5)\n",
    "\n",
    "position_command = ROBOT_OPTION_1\n",
    "temp_position_command = position_command.copy()\n",
    "temp_position_command[0] = b'-7000\\r'\n",
    "\n",
    "print(\"Second movement\")\n",
    "\n",
    "ser.write(b\"SETPV P1\\r\")\n",
    "time.sleep(0.1)\n",
    "\n",
    "for command in temp_position_command:\n",
    "    print(command)\n",
    "    ser.write(command)\n",
    "    response = ser.read_all().decode('ascii')\n",
    "    check_messages(response)\n",
    "    time.sleep(0.1)\n",
    "\n",
    "ser.write(b\"MOVE P1\\r\")\n",
    "time.sleep(2)\n",
    "\n",
    "print(\"Third movement\")\n",
    "\n",
    "ser.write(b\"SETPV P1\\r\")\n",
    "time.sleep(0.1)\n",
    "for command in position_command:\n",
    "    print(command)\n",
    "    ser.write(command)\n",
    "    response = ser.read_all().decode('ascii')\n",
    "    check_messages(response)\n",
    "    time.sleep(0.1)\n",
    "ser.write(b\"MOVE P1 \\r\")\n",
    "time.sleep(0.5)"
   ]
  },
  {
   "cell_type": "code",
   "execution_count": 9,
   "metadata": {},
   "outputs": [
    {
     "name": "stdout",
     "output_type": "stream",
     "text": [
      "\n"
     ]
    }
   ],
   "source": [
    "response = ser.read_all().decode('ascii')\n",
    "print(response)"
   ]
  },
  {
   "cell_type": "code",
   "execution_count": 41,
   "metadata": {},
   "outputs": [],
   "source": []
  },
  {
   "cell_type": "code",
   "execution_count": null,
   "metadata": {},
   "outputs": [
    {
     "name": "stdout",
     "output_type": "stream",
     "text": [
      "\n"
     ]
    }
   ],
   "source": [
    "response = ser.read_all().decode('ascii')\n",
    "print(response)"
   ]
  },
  {
   "cell_type": "code",
   "execution_count": null,
   "metadata": {},
   "outputs": [],
   "source": [
    "ser.close()"
   ]
  }
 ],
 "metadata": {
  "kernelspec": {
   "display_name": "venv",
   "language": "python",
   "name": "python3"
  },
  "language_info": {
   "codemirror_mode": {
    "name": "ipython",
    "version": 3
   },
   "file_extension": ".py",
   "mimetype": "text/x-python",
   "name": "python",
   "nbconvert_exporter": "python",
   "pygments_lexer": "ipython3",
   "version": "3.8.10"
  }
 },
 "nbformat": 4,
 "nbformat_minor": 2
}
