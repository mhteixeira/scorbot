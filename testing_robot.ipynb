{
 "cells": [
  {
   "cell_type": "code",
   "execution_count": 2,
   "metadata": {},
   "outputs": [],
   "source": [
    "from Robot import Robot"
   ]
  },
  {
   "cell_type": "code",
   "execution_count": 3,
   "metadata": {},
   "outputs": [
    {
     "name": "stdout",
     "output_type": "stream",
     "text": [
      "CON \n",
      "CONTROL ENABLED.\n",
      ">HOME \n",
      "WAIT !! homing...\n",
      "Homing complete(robot).\n",
      ">\n"
     ]
    }
   ],
   "source": [
    "port = \"COM5\"\n",
    "robot = Robot(port)"
   ]
  },
  {
   "cell_type": "code",
   "execution_count": 4,
   "metadata": {},
   "outputs": [
    {
     "name": "stdout",
     "output_type": "stream",
     "text": [
      "X: [3422, -353, 9383, 76, -201], Y: [3422, -353, 9383, 76, -201], Z: [3422, -353, 9383, 76, -201], P: [3422, -353, 9383, 76, -201], R: [3422, -353, 9383, 76, -201]\n"
     ]
    }
   ],
   "source": [
    "robot.print_pose()"
   ]
  }
 ],
 "metadata": {
  "kernelspec": {
   "display_name": "base",
   "language": "python",
   "name": "python3"
  },
  "language_info": {
   "codemirror_mode": {
    "name": "ipython",
    "version": 3
   },
   "file_extension": ".py",
   "mimetype": "text/x-python",
   "name": "python",
   "nbconvert_exporter": "python",
   "pygments_lexer": "ipython3",
   "version": "3.9.18"
  }
 },
 "nbformat": 4,
 "nbformat_minor": 2
}
