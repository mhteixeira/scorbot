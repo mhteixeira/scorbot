{
 "cells": [
  {
   "cell_type": "code",
   "execution_count": 7,
   "metadata": {},
   "outputs": [],
   "source": [
    "from Robot import Robot"
   ]
  },
  {
   "cell_type": "code",
   "execution_count": 8,
   "metadata": {},
   "outputs": [
    {
     "name": "stdout",
     "output_type": "stream",
     "text": [
      "CON \n",
      "CONTROL ENABLED.\n",
      ">\n",
      "b'HERE P1 \\r\\n\\x00Done.\\r\\n>LISTPV P1 \\r\\nPosition P1\\r\\n 1: 2       2:-3532    3:-6100    4: 3213    5: 9      \\r\\n X: 6999    Y:-352     Z: 6524    P: 78      R:-200    \\r\\n>'\n"
     ]
    }
   ],
   "source": [
    "port = \"COM5\"\n",
    "robot = Robot(port)"
   ]
  },
  {
   "cell_type": "code",
   "execution_count": 9,
   "metadata": {},
   "outputs": [
    {
     "name": "stdout",
     "output_type": "stream",
     "text": [
      "X: 6999, Y: -352, Z: 6524, P: 78, R: -200\n"
     ]
    }
   ],
   "source": [
    "robot.print_pose()"
   ]
  },
  {
   "cell_type": "code",
   "execution_count": 10,
   "metadata": {},
   "outputs": [
    {
     "name": "stdout",
     "output_type": "stream",
     "text": [
      "b'HERE P1 \\r\\n\\x00Done.\\r\\n>LISTPV P1 \\r\\nPosition P1\\r\\n 1: 2       2:-3532    3:-6100    4: 3213    5: 9      \\r\\n X: 6999    Y:-352     Z: 6524    P: 78      R:-200    \\r\\n>'\n",
      "X: 6999, Y: -352, Z: 6524, P: 78, R: -200\n"
     ]
    }
   ],
   "source": [
    "robot.get_intial_position()\n",
    "robot.print_pose()"
   ]
  },
  {
   "cell_type": "code",
   "execution_count": 11,
   "metadata": {},
   "outputs": [
    {
     "name": "stdout",
     "output_type": "stream",
     "text": [
      "SETPVC P1 X 5999 \n",
      "b'SETPVC P1 X 5999 \\r\\n\\x00Done.\\r\\n>'\n",
      "b'MOVE P1 \\r\\n\\x00Done.\\r\\n>\\r\\n*** IMPACT PROTECTION axis 2\\r\\n>'\n"
     ]
    }
   ],
   "source": [
    "robot.move_robot_x(-1000)"
   ]
  }
 ],
 "metadata": {
  "kernelspec": {
   "display_name": "base",
   "language": "python",
   "name": "python3"
  },
  "language_info": {
   "codemirror_mode": {
    "name": "ipython",
    "version": 3
   },
   "file_extension": ".py",
   "mimetype": "text/x-python",
   "name": "python",
   "nbconvert_exporter": "python",
   "pygments_lexer": "ipython3",
   "version": "3.9.18"
  }
 },
 "nbformat": 4,
 "nbformat_minor": 2
}
