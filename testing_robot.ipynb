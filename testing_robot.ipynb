{
 "cells": [
  {
   "cell_type": "code",
   "execution_count": 16,
   "metadata": {},
   "outputs": [],
   "source": [
    "from Robot import Robot"
   ]
  },
  {
   "cell_type": "code",
   "execution_count": 17,
   "metadata": {},
   "outputs": [
    {
     "name": "stdout",
     "output_type": "stream",
     "text": [
      "CON \n",
      "CONTROL ENABLED.\n",
      ">HOME \n",
      "WAIT !! homing...\n",
      "Homing complete(robot).\n",
      ">\n"
     ]
    }
   ],
   "source": [
    "port = \"COM5\"\n",
    "robot = Robot(port)"
   ]
  },
  {
   "cell_type": "code",
   "execution_count": 18,
   "metadata": {},
   "outputs": [
    {
     "name": "stdout",
     "output_type": "stream",
     "text": [
      "X: 3423, Y: -353, Z: 3423, P: -201, R: 76\n"
     ]
    }
   ],
   "source": [
    "robot.print_pose()"
   ]
  },
  {
   "cell_type": "code",
   "execution_count": 19,
   "metadata": {},
   "outputs": [
    {
     "name": "stdout",
     "output_type": "stream",
     "text": [
      "X: 3423, Y: -353, Z: 3423, P: -201, R: 76\n"
     ]
    }
   ],
   "source": [
    "robot.get_intial_position()\n",
    "robot.print_pose()"
   ]
  },
  {
   "cell_type": "code",
   "execution_count": 20,
   "metadata": {},
   "outputs": [
    {
     "ename": "TypeError",
     "evalue": "write() takes 2 positional arguments but 3 were given",
     "output_type": "error",
     "traceback": [
      "\u001b[1;31m---------------------------------------------------------------------------\u001b[0m",
      "\u001b[1;31mTypeError\u001b[0m                                 Traceback (most recent call last)",
      "\u001b[1;32mc:\\Users\\fatim\\Desktop\\IST\\Robotics\\scorbot\\testing_robot.ipynb Cell 5\u001b[0m line \u001b[0;36m1\n\u001b[1;32m----> <a href='vscode-notebook-cell:/c%3A/Users/fatim/Desktop/IST/Robotics/scorbot/testing_robot.ipynb#W3sZmlsZQ%3D%3D?line=0'>1</a>\u001b[0m robot\u001b[39m.\u001b[39;49mmove_robot_x(\u001b[39m100\u001b[39;49m)\n",
      "File \u001b[1;32mc:\\Users\\fatim\\Desktop\\IST\\Robotics\\scorbot\\Robot.py:52\u001b[0m, in \u001b[0;36mRobot.move_robot_x\u001b[1;34m(self, increment)\u001b[0m\n\u001b[0;32m     42\u001b[0m \u001b[39mdef\u001b[39;00m \u001b[39mmove_robot_x\u001b[39m(\u001b[39mself\u001b[39m, increment):\n\u001b[0;32m     44\u001b[0m         \u001b[39mself\u001b[39m\u001b[39m.\u001b[39mpose\u001b[39m.\u001b[39mupdate_pose([\n\u001b[0;32m     45\u001b[0m             \u001b[39mself\u001b[39m\u001b[39m.\u001b[39mpose\u001b[39m.\u001b[39mposition\u001b[39m.\u001b[39mx \u001b[39m+\u001b[39m increment,\n\u001b[0;32m     46\u001b[0m             \u001b[39mself\u001b[39m\u001b[39m.\u001b[39mpose\u001b[39m.\u001b[39mposition\u001b[39m.\u001b[39my,\n\u001b[1;32m   (...)\u001b[0m\n\u001b[0;32m     49\u001b[0m             \u001b[39mself\u001b[39m\u001b[39m.\u001b[39mpose\u001b[39m.\u001b[39morientation\u001b[39m.\u001b[39mpitch,\n\u001b[0;32m     50\u001b[0m         ])\n\u001b[1;32m---> 52\u001b[0m         \u001b[39mself\u001b[39;49m\u001b[39m.\u001b[39;49mser\u001b[39m.\u001b[39;49mwrite(\u001b[39mb\u001b[39;49m\u001b[39m\"\u001b[39;49m\u001b[39mSETPVC P1 X\u001b[39;49m\u001b[39m\"\u001b[39;49m, \u001b[39mself\u001b[39;49m\u001b[39m.\u001b[39;49mpose\u001b[39m.\u001b[39;49mposition\u001b[39m.\u001b[39;49mx)\n\u001b[0;32m     53\u001b[0m         \u001b[39mself\u001b[39m\u001b[39m.\u001b[39mser\u001b[39m.\u001b[39mread_all()\n\u001b[0;32m     54\u001b[0m         \u001b[39mself\u001b[39m\u001b[39m.\u001b[39mser\u001b[39m.\u001b[39mwrite(\u001b[39mb\u001b[39m\u001b[39m\"\u001b[39m\u001b[39mMOVE P1\u001b[39m\u001b[39m\"\u001b[39m)\n",
      "\u001b[1;31mTypeError\u001b[0m: write() takes 2 positional arguments but 3 were given"
     ]
    }
   ],
   "source": [
    "robot.move_robot_x(100)"
   ]
  }
 ],
 "metadata": {
  "kernelspec": {
   "display_name": "base",
   "language": "python",
   "name": "python3"
  },
  "language_info": {
   "codemirror_mode": {
    "name": "ipython",
    "version": 3
   },
   "file_extension": ".py",
   "mimetype": "text/x-python",
   "name": "python",
   "nbconvert_exporter": "python",
   "pygments_lexer": "ipython3",
   "version": "3.9.18"
  }
 },
 "nbformat": 4,
 "nbformat_minor": 2
}
